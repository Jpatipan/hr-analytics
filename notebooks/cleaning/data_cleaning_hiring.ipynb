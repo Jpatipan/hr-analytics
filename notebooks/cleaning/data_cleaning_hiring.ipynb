{
 "cells": [
  {
   "cell_type": "code",
   "execution_count": 20,
   "id": "d3fcea9f",
   "metadata": {},
   "outputs": [],
   "source": [
    "import pandas as pd"
   ]
  },
  {
   "cell_type": "code",
   "execution_count": 21,
   "id": "3bc84a20",
   "metadata": {},
   "outputs": [
    {
     "data": {
      "text/html": [
       "<div>\n",
       "<style scoped>\n",
       "    .dataframe tbody tr th:only-of-type {\n",
       "        vertical-align: middle;\n",
       "    }\n",
       "\n",
       "    .dataframe tbody tr th {\n",
       "        vertical-align: top;\n",
       "    }\n",
       "\n",
       "    .dataframe thead th {\n",
       "        text-align: right;\n",
       "    }\n",
       "</style>\n",
       "<table border=\"1\" class=\"dataframe\">\n",
       "  <thead>\n",
       "    <tr style=\"text-align: right;\">\n",
       "      <th></th>\n",
       "      <th>ApplicantID</th>\n",
       "      <th>Source</th>\n",
       "      <th>Stage</th>\n",
       "      <th>StageDate</th>\n",
       "    </tr>\n",
       "  </thead>\n",
       "  <tbody>\n",
       "    <tr>\n",
       "      <th>0</th>\n",
       "      <td>A2000</td>\n",
       "      <td>Company Website</td>\n",
       "      <td>Applied</td>\n",
       "      <td>2024-03-18</td>\n",
       "    </tr>\n",
       "    <tr>\n",
       "      <th>1</th>\n",
       "      <td>A2000</td>\n",
       "      <td>LinkedIn</td>\n",
       "      <td>Phone Screen</td>\n",
       "      <td>2024-03-08</td>\n",
       "    </tr>\n",
       "    <tr>\n",
       "      <th>2</th>\n",
       "      <td>A2000</td>\n",
       "      <td>Job Fair</td>\n",
       "      <td>Interview</td>\n",
       "      <td>2024-02-21</td>\n",
       "    </tr>\n",
       "    <tr>\n",
       "      <th>3</th>\n",
       "      <td>A2001</td>\n",
       "      <td>Company Website</td>\n",
       "      <td>Applied</td>\n",
       "      <td>2024-01-27</td>\n",
       "    </tr>\n",
       "    <tr>\n",
       "      <th>4</th>\n",
       "      <td>A2001</td>\n",
       "      <td>LinkedIn</td>\n",
       "      <td>Phone Screen</td>\n",
       "      <td>2024-01-28</td>\n",
       "    </tr>\n",
       "    <tr>\n",
       "      <th>...</th>\n",
       "      <td>...</td>\n",
       "      <td>...</td>\n",
       "      <td>...</td>\n",
       "      <td>...</td>\n",
       "    </tr>\n",
       "    <tr>\n",
       "      <th>603</th>\n",
       "      <td>A2198</td>\n",
       "      <td>Referral</td>\n",
       "      <td>Offer</td>\n",
       "      <td>2024-02-16</td>\n",
       "    </tr>\n",
       "    <tr>\n",
       "      <th>604</th>\n",
       "      <td>A2199</td>\n",
       "      <td>Job Fair</td>\n",
       "      <td>Applied</td>\n",
       "      <td>2024-03-16</td>\n",
       "    </tr>\n",
       "    <tr>\n",
       "      <th>605</th>\n",
       "      <td>A2199</td>\n",
       "      <td>Company Website</td>\n",
       "      <td>Phone Screen</td>\n",
       "      <td>2024-03-16</td>\n",
       "    </tr>\n",
       "    <tr>\n",
       "      <th>606</th>\n",
       "      <td>A2199</td>\n",
       "      <td>Company Website</td>\n",
       "      <td>Interview</td>\n",
       "      <td>2024-02-16</td>\n",
       "    </tr>\n",
       "    <tr>\n",
       "      <th>607</th>\n",
       "      <td>A2199</td>\n",
       "      <td>Referral</td>\n",
       "      <td>Offer</td>\n",
       "      <td>2024-01-19</td>\n",
       "    </tr>\n",
       "  </tbody>\n",
       "</table>\n",
       "<p>608 rows × 4 columns</p>\n",
       "</div>"
      ],
      "text/plain": [
       "    ApplicantID           Source         Stage   StageDate\n",
       "0         A2000  Company Website       Applied  2024-03-18\n",
       "1         A2000         LinkedIn  Phone Screen  2024-03-08\n",
       "2         A2000         Job Fair     Interview  2024-02-21\n",
       "3         A2001  Company Website       Applied  2024-01-27\n",
       "4         A2001         LinkedIn  Phone Screen  2024-01-28\n",
       "..          ...              ...           ...         ...\n",
       "603       A2198         Referral         Offer  2024-02-16\n",
       "604       A2199         Job Fair       Applied  2024-03-16\n",
       "605       A2199  Company Website  Phone Screen  2024-03-16\n",
       "606       A2199  Company Website     Interview  2024-02-16\n",
       "607       A2199         Referral         Offer  2024-01-19\n",
       "\n",
       "[608 rows x 4 columns]"
      ]
     },
     "execution_count": 21,
     "metadata": {},
     "output_type": "execute_result"
    }
   ],
   "source": [
    "hr_hiring_data = pd.read_csv('../../data/raw/hr_hiring_funnel.csv')\n",
    "hr_hiring_data"
   ]
  },
  {
   "cell_type": "code",
   "execution_count": 22,
   "id": "dc134649",
   "metadata": {},
   "outputs": [
    {
     "data": {
      "text/plain": [
       "ApplicantID    0\n",
       "Source         0\n",
       "Stage          0\n",
       "StageDate      0\n",
       "dtype: int64"
      ]
     },
     "execution_count": 22,
     "metadata": {},
     "output_type": "execute_result"
    }
   ],
   "source": [
    "# check the data is null\n",
    "data_null = hr_hiring_data.isnull().sum()\n",
    "data_null"
   ]
  },
  {
   "cell_type": "code",
   "execution_count": 23,
   "id": "e02e0fc3",
   "metadata": {},
   "outputs": [
    {
     "data": {
      "text/plain": [
       "ApplicantID    0\n",
       "Source         0\n",
       "Stage          0\n",
       "StageDate      0\n",
       "dtype: int64"
      ]
     },
     "execution_count": 23,
     "metadata": {},
     "output_type": "execute_result"
    }
   ],
   "source": [
    "# check the data is na\n",
    "data_na = hr_hiring_data.isna().sum()\n",
    "data_na"
   ]
  },
  {
   "cell_type": "code",
   "execution_count": 24,
   "id": "248f0973",
   "metadata": {},
   "outputs": [
    {
     "data": {
      "text/plain": [
       "ApplicantID    object\n",
       "Source         object\n",
       "Stage          object\n",
       "StageDate      object\n",
       "dtype: object"
      ]
     },
     "execution_count": 24,
     "metadata": {},
     "output_type": "execute_result"
    }
   ],
   "source": [
    "# check the data types\n",
    "hr_hiring_data.dtypes"
   ]
  },
  {
   "cell_type": "code",
   "execution_count": 25,
   "id": "dd12971e",
   "metadata": {},
   "outputs": [
    {
     "data": {
      "text/html": [
       "<div>\n",
       "<style scoped>\n",
       "    .dataframe tbody tr th:only-of-type {\n",
       "        vertical-align: middle;\n",
       "    }\n",
       "\n",
       "    .dataframe tbody tr th {\n",
       "        vertical-align: top;\n",
       "    }\n",
       "\n",
       "    .dataframe thead th {\n",
       "        text-align: right;\n",
       "    }\n",
       "</style>\n",
       "<table border=\"1\" class=\"dataframe\">\n",
       "  <thead>\n",
       "    <tr style=\"text-align: right;\">\n",
       "      <th></th>\n",
       "      <th>applicant_id</th>\n",
       "      <th>source</th>\n",
       "      <th>stage</th>\n",
       "      <th>stage_date</th>\n",
       "    </tr>\n",
       "  </thead>\n",
       "  <tbody>\n",
       "    <tr>\n",
       "      <th>0</th>\n",
       "      <td>A2000</td>\n",
       "      <td>Company Website</td>\n",
       "      <td>Applied</td>\n",
       "      <td>2024-03-18</td>\n",
       "    </tr>\n",
       "    <tr>\n",
       "      <th>1</th>\n",
       "      <td>A2000</td>\n",
       "      <td>LinkedIn</td>\n",
       "      <td>Phone Screen</td>\n",
       "      <td>2024-03-08</td>\n",
       "    </tr>\n",
       "    <tr>\n",
       "      <th>2</th>\n",
       "      <td>A2000</td>\n",
       "      <td>Job Fair</td>\n",
       "      <td>Interview</td>\n",
       "      <td>2024-02-21</td>\n",
       "    </tr>\n",
       "    <tr>\n",
       "      <th>3</th>\n",
       "      <td>A2001</td>\n",
       "      <td>Company Website</td>\n",
       "      <td>Applied</td>\n",
       "      <td>2024-01-27</td>\n",
       "    </tr>\n",
       "    <tr>\n",
       "      <th>4</th>\n",
       "      <td>A2001</td>\n",
       "      <td>LinkedIn</td>\n",
       "      <td>Phone Screen</td>\n",
       "      <td>2024-01-28</td>\n",
       "    </tr>\n",
       "    <tr>\n",
       "      <th>...</th>\n",
       "      <td>...</td>\n",
       "      <td>...</td>\n",
       "      <td>...</td>\n",
       "      <td>...</td>\n",
       "    </tr>\n",
       "    <tr>\n",
       "      <th>603</th>\n",
       "      <td>A2198</td>\n",
       "      <td>Referral</td>\n",
       "      <td>Offer</td>\n",
       "      <td>2024-02-16</td>\n",
       "    </tr>\n",
       "    <tr>\n",
       "      <th>604</th>\n",
       "      <td>A2199</td>\n",
       "      <td>Job Fair</td>\n",
       "      <td>Applied</td>\n",
       "      <td>2024-03-16</td>\n",
       "    </tr>\n",
       "    <tr>\n",
       "      <th>605</th>\n",
       "      <td>A2199</td>\n",
       "      <td>Company Website</td>\n",
       "      <td>Phone Screen</td>\n",
       "      <td>2024-03-16</td>\n",
       "    </tr>\n",
       "    <tr>\n",
       "      <th>606</th>\n",
       "      <td>A2199</td>\n",
       "      <td>Company Website</td>\n",
       "      <td>Interview</td>\n",
       "      <td>2024-02-16</td>\n",
       "    </tr>\n",
       "    <tr>\n",
       "      <th>607</th>\n",
       "      <td>A2199</td>\n",
       "      <td>Referral</td>\n",
       "      <td>Offer</td>\n",
       "      <td>2024-01-19</td>\n",
       "    </tr>\n",
       "  </tbody>\n",
       "</table>\n",
       "<p>608 rows × 4 columns</p>\n",
       "</div>"
      ],
      "text/plain": [
       "    applicant_id           source         stage  stage_date\n",
       "0          A2000  Company Website       Applied  2024-03-18\n",
       "1          A2000         LinkedIn  Phone Screen  2024-03-08\n",
       "2          A2000         Job Fair     Interview  2024-02-21\n",
       "3          A2001  Company Website       Applied  2024-01-27\n",
       "4          A2001         LinkedIn  Phone Screen  2024-01-28\n",
       "..           ...              ...           ...         ...\n",
       "603        A2198         Referral         Offer  2024-02-16\n",
       "604        A2199         Job Fair       Applied  2024-03-16\n",
       "605        A2199  Company Website  Phone Screen  2024-03-16\n",
       "606        A2199  Company Website     Interview  2024-02-16\n",
       "607        A2199         Referral         Offer  2024-01-19\n",
       "\n",
       "[608 rows x 4 columns]"
      ]
     },
     "execution_count": 25,
     "metadata": {},
     "output_type": "execute_result"
    }
   ],
   "source": [
    "# rename the columns\n",
    "hr_hiring_data = hr_hiring_data.rename(columns={\n",
    "    'ApplicantID': 'applicant_id',\n",
    "    'Source': 'source',\n",
    "    'Stage': 'stage',\n",
    "    'StageDate': 'stage_date',\n",
    "})\n",
    "\n",
    "hr_hiring_data"
   ]
  },
  {
   "cell_type": "code",
   "execution_count": 26,
   "id": "8442213c",
   "metadata": {},
   "outputs": [
    {
     "data": {
      "text/plain": [
       "applicant_id            object\n",
       "source                  object\n",
       "stage                   object\n",
       "stage_date      datetime64[ns]\n",
       "dtype: object"
      ]
     },
     "execution_count": 26,
     "metadata": {},
     "output_type": "execute_result"
    }
   ],
   "source": [
    "# convert the stage_date column to datetime format\n",
    "hr_hiring_data['stage_date'] = pd.to_datetime(hr_hiring_data['stage_date'])\n",
    "hr_hiring_data.dtypes"
   ]
  },
  {
   "cell_type": "code",
   "execution_count": 27,
   "id": "a7debdb9",
   "metadata": {},
   "outputs": [
    {
     "name": "stdout",
     "output_type": "stream",
     "text": [
      "Data saved to ../../data/processed/hr_hiring_funnel.csv\n"
     ]
    }
   ],
   "source": [
    "# export the data to csv\n",
    "df = pd.DataFrame(hr_hiring_data)\n",
    "df.to_csv('../../data/processed/hr_hiring_funnel.csv', index=False)\n",
    "print(\"Data saved to ../../data/processed/hr_hiring_funnel.csv\")"
   ]
  }
 ],
 "metadata": {
  "kernelspec": {
   "display_name": "base",
   "language": "python",
   "name": "python3"
  },
  "language_info": {
   "codemirror_mode": {
    "name": "ipython",
    "version": 3
   },
   "file_extension": ".py",
   "mimetype": "text/x-python",
   "name": "python",
   "nbconvert_exporter": "python",
   "pygments_lexer": "ipython3",
   "version": "3.12.3"
  }
 },
 "nbformat": 4,
 "nbformat_minor": 5
}
